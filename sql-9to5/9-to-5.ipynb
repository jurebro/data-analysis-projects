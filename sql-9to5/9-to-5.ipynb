{
    "cells": [
        {
            "cell_type": "markdown",
            "metadata": {
                "azdata_cell_guid": "7ad962b3-fce2-439c-9ac4-460e1a79b0e8"
            },
            "source": [
                "# Graded Assignment 3: 9 to 5\n",
                "\n",
                "Time to show off your SQL skills! For each question, copy the SQL query you used and make note of the answer.\n",
                "\n",
                "## The Dataset\n",
                "\n",
                "For this assignment, you will be using the Bureau of Labor Statistics (BLS) Current Employment Survey (CES) results which can be found on [Kaggle](https://www.kaggle.com/datasets/bls/employment).\n",
                "\n",
                "## Business Issue\n",
                "\n",
                "You are working for the Bureau of Labor Statistics with the United States government and have been approached by your boss with an important meeting request. You have been asked by your supervisor to meet with Dolly Parton whose nonprofit is looking to shed light on the state of employment in the United States. As part of the 9 to 5 project, their research is focused on production and nonsupervisory employees and how those employees fare compared to all employees in the United States. While the data the BLS collects from the CES is publicly available, Dolly Parton and her colleagues need your assistance navigating the thousands of rows in each table in LaborStatisticsDB.\n",
                "\n",
                "## About the Dataset\n",
                "\n",
                "This dataset comes directly from the Bureau of Labor Statistics’ Current Employment Survey (CES). Here are some things you need to know:\n",
                "\n",
                "1. The industry table contains an NAICS code. This is different from the industry code. NAICS stands for North American Industry Classification System.\n",
                "1. Series ID is composed of multiple different codes. CES stands for Current Employment Survey, the name of the survey which collected the data. The industry code as specified by the BLS and the data type code as specified in the datatype table.\n",
                "\n",
                "## Set Up\n",
                "\n",
                "To connect to the database, use the same connection info used during the SQL lessons. \n",
                "\n",
                "For the assignment, we will be using `LaborStatisticsDB`."
            ]
        },
        {
            "cell_type": "markdown",
            "metadata": {
                "azdata_cell_guid": "dcbb5ae7-a9c8-4d48-8986-8a0f778cc6c6"
            },
            "source": [
                "## Database Exploration\n",
                "\n",
                "To start with, let’s get to know the database further.\n",
                "\n",
                "1. Use this space to make note of each table in the database, the columns within each table, each column’s data type, and how the tables are connected. You can write this down or draw a diagram. Whatever method helps you get an understanding of what is going on with `LaborStatisticsDB`.\n",
                "   \n",
                "   To add a photo, diagram or document to your file, drop the file into the folder that holds this notebook.  Use the link button to the right of the  </> symbol in the gray part of this cell, the link is just the name of your file."
            ]
        },
        {
            "cell_type": "markdown",
            "metadata": {
                "azdata_cell_guid": "adb853fc-e2ab-416a-89f0-eb1d6f5b4af8",
                "language": "sql",
                "vscode": {
                    "languageId": "sql"
                }
            },
            "source": [
                "dbo.annual_2016(id, series_id, year, period, value, footnote_codes, original_file)\n",
                "\n",
                "dbo.datatype(data_type_code, data_type_text)\n",
                "\n",
                "dbo.footnote(footnote_code, footnote_text)\n",
                "\n",
                "dbo.industry(id, industry_code, naics_code, publishing_status, industry_name, display_level, selectable, sort_sequence)\n",
                "\n",
                "dbo.january_2017(id, series_id, year, period, value, footnote_codes, original_file)\n",
                "\n",
                "dbo.period(period_code, month_abbr, month)\n",
                "\n",
                "dbo.seasonal(industry_code, seasonal_text)\n",
                "\n",
                "dbo.series(series_id, supersector_code, industry_code, data_type_code, seasonal, series_title)\n",
                "\n",
                "dbo.supersector(supersector_code, supersector_name)"
            ]
        },
        {
            "cell_type": "markdown",
            "metadata": {
                "azdata_cell_guid": "87e95d63-f756-4afc-98d9-ed1dcfb95466"
            },
            "source": [
                "2. What is the datatype for women employees?"
            ]
        },
        {
            "cell_type": "code",
            "execution_count": null,
            "metadata": {
                "azdata_cell_guid": "e695b98b-25ed-4bec-8407-6f060e711df1",
                "language": "sql",
                "vscode": {
                    "languageId": "sql"
                }
            },
            "outputs": [],
            "source": [
                "SELECT data_type_code\n",
                "FROM dbo.datatype\n",
                "WHERE data_type_text = 'WOMEN EMPLOYEES';\n",
                "\n",
                "-- datatype for 'WOMEN EMPLOYEES' is 10"
            ]
        },
        {
            "cell_type": "markdown",
            "metadata": {
                "azdata_cell_guid": "5e72355c-a069-483d-8e57-33c8244e54d3"
            },
            "source": [
                "3. What is the series id for  women employees in the commercial banking industry in the financial activities supersector?"
            ]
        },
        {
            "cell_type": "code",
            "execution_count": null,
            "metadata": {
                "azdata_cell_guid": "3ecf48c5-07bb-4063-aef5-96b4212f5150",
                "language": "sql",
                "vscode": {
                    "languageId": "sql"
                }
            },
            "outputs": [],
            "source": [
                "SELECT series_id\n",
                "FROM dbo.series\n",
                "WHERE supersector_code = (\n",
                "    SELECT supersector_code\n",
                "    FROM dbo.supersector\n",
                "    WHERE supersector_name = 'Financial activities'\n",
                ") AND industry_code = (\n",
                "    SELECT industry_code\n",
                "    FROM dbo.industry\n",
                "    WHERE industry_name = 'Commercial banking'\n",
                ") AND data_type_code = (\n",
                "    SELECT data_type_code\n",
                "    FROM dbo.datatype\n",
                "    WHERE data_type_text = 'WOMEN EMPLOYEES'\n",
                ");\n",
                "\n",
                "-- The series_id for women employees in the commercial banking industry in the\n",
                "-- financial activities supersector is 'CEU5552211010'.\n",
                " "
            ]
        },
        {
            "cell_type": "markdown",
            "metadata": {
                "azdata_cell_guid": "44ff5801-e75c-405f-bba2-e4f864356f0a"
            },
            "source": [
                "## Aggregate Your Friends and Code some SQL\n",
                "\n",
                "Put together the following:\n",
                "\n",
                "1. How many employees were reported in 2016 in all industries? Round to the nearest whole number."
            ]
        },
        {
            "cell_type": "code",
            "execution_count": null,
            "metadata": {
                "azdata_cell_guid": "2f2aa59f-b6c5-470f-9f72-8bc0ec5178ab",
                "language": "sql",
                "vscode": {
                    "languageId": "sql"
                }
            },
            "outputs": [],
            "source": [
                "SELECT \n",
                "    ROUND(SUM(an.value),0) AS total_employees_2016\n",
                "FROM dbo.annual_2016 AS an\n",
                "JOIN dbo.series AS se \n",
                "    ON an.series_id = se.series_id\n",
                "JOIN dbo.datatype AS dt \n",
                "    ON se.data_type_code = dt.data_type_code\n",
                "WHERE dt.data_type_text = 'ALL EMPLOYEES';\n",
                "\n",
                "-- Total number of all employees reported in 2016 across all industries, rounded to\n",
                "-- the nearest whole number is: 2,340,612."
            ]
        },
        {
            "cell_type": "markdown",
            "metadata": {
                "azdata_cell_guid": "29d32b99-da7f-4c98-b757-ff3704d136e8"
            },
            "source": [
                "2. How many women employees were reported in 2016 in all industries? Round to the nearest whole number. "
            ]
        },
        {
            "cell_type": "code",
            "execution_count": null,
            "metadata": {
                "azdata_cell_guid": "6e478ad7-1a7e-460c-8000-1e6c10373731",
                "language": "sql",
                "vscode": {
                    "languageId": "sql"
                }
            },
            "outputs": [],
            "source": [
                "SELECT \n",
                "    ROUND(SUM(an.value),0) AS total_women_employees_2016\n",
                "FROM dbo.annual_2016 AS an\n",
                "JOIN dbo.series AS se \n",
                "    ON an.series_id = se.series_id\n",
                "JOIN dbo.datatype AS dt \n",
                "    ON se.data_type_code = dt.data_type_code\n",
                "WHERE dt.data_type_text = 'WOMEN EMPLOYEES';\n",
                "\n",
                "-- Total number of women employees reported in 2016 across all industries, rounded to\n",
                "-- the nearest whole number is: 1,125,490."
            ]
        },
        {
            "cell_type": "markdown",
            "metadata": {
                "azdata_cell_guid": "6b173ff0-3ec9-45b1-b9c1-08351f9ae595"
            },
            "source": [
                "3. How many production/nonsupervisory employees were reported in 2016? Round to the nearest whole number. "
            ]
        },
        {
            "cell_type": "code",
            "execution_count": null,
            "metadata": {
                "azdata_cell_guid": "8532a572-5cd6-4d06-b770-c3f1c7c4e8b2",
                "language": "sql",
                "vscode": {
                    "languageId": "sql"
                }
            },
            "outputs": [],
            "source": [
                "SELECT \n",
                "    ROUND(SUM(an.value),0) AS grunt_employees\n",
                "FROM dbo.annual_2016 AS an\n",
                "JOIN dbo.series AS se \n",
                "    ON an.series_id = se.series_id\n",
                "JOIN dbo.datatype AS dt \n",
                "    ON se.data_type_code = dt.data_type_code\n",
                "WHERE dt.data_type_text = 'PRODUCTION AND NONSUPERVISORY EMPLOYEES';\n",
                "\n",
                "-- Total number of production/nonsupervisory employees reported in 2016 across all industries, \n",
                "-- rounded to the nearest whole number is: 1,263,650."
            ]
        },
        {
            "cell_type": "markdown",
            "metadata": {
                "azdata_cell_guid": "f0e5cd3c-1e07-4718-858f-026045a0a438"
            },
            "source": [
                "4. In January 2017, what is the average weekly hours worked by production and nonsupervisory employees across all industries?"
            ]
        },
        {
            "cell_type": "code",
            "execution_count": null,
            "metadata": {
                "azdata_cell_guid": "ed56d1e6-8622-4b43-923f-6892977b3409",
                "language": "sql",
                "vscode": {
                    "languageId": "sql"
                }
            },
            "outputs": [],
            "source": [
                "SELECT \n",
                "    ROUND(AVG(jan.value),0) AS avg_grunt_wk_hours_jan2017\n",
                "FROM dbo.january_2017 AS jan\n",
                "JOIN dbo.series AS se \n",
                "    ON jan.series_id = se.series_id\n",
                "JOIN dbo.datatype AS dt \n",
                "    ON se.data_type_code = dt.data_type_code\n",
                "WHERE dt.data_type_text LIKE 'AVERAGE WEEKLY HOURS%PRODUCTION AND NONSUPERVISORY%';\n",
                "\n",
                "-- The average weekly hours worked by production and nonsupervisory employees across all industries,\n",
                "-- excluding overtime, is: 36.\n",
                "\n",
                "WITH avg_grunt_wk_hours_jan2017 AS (\n",
                "    SELECT \n",
                "        ROUND(AVG(jan.value),0) AS avg_wk_hours_jan2017\n",
                "    FROM dbo.january_2017 AS jan\n",
                "    JOIN dbo.series AS se \n",
                "        ON jan.series_id = se.series_id\n",
                "    JOIN dbo.datatype AS dt \n",
                "        ON se.data_type_code = dt.data_type_code\n",
                "    WHERE dt.data_type_text LIKE 'AVERAGE WEEKLY HOURS%PRODUCTION AND NONSUPERVISORY%'),\n",
                "avg_grunt_ot_hours_jan2017 AS (\n",
                "    SELECT \n",
                "        ROUND(AVG(jan.value),0) AS avg_ot_hours_jan2017\n",
                "    FROM dbo.january_2017 AS jan\n",
                "    JOIN dbo.series AS se \n",
                "        ON jan.series_id = se.series_id\n",
                "    JOIN dbo.datatype AS dt \n",
                "        ON se.data_type_code = dt.data_type_code\n",
                "    WHERE dt.data_type_text LIKE 'AVERAGE WEEKLY OVERTIME%PRODUCTION AND NONSUPERVISORY%')\n",
                "SELECT a.avg_wk_hours_jan2017 + b.avg_ot_hours_jan2017 AS total_avg_hours\n",
                "FROM avg_grunt_wk_hours_jan2017 AS a\n",
                "CROSS JOIN avg_grunt_ot_hours_jan2017 AS b;\n",
                "\n",
                "-- If we sum average work hours and average overtime hours, that weekly average increases to: 40."
            ]
        },
        {
            "cell_type": "markdown",
            "metadata": {
                "azdata_cell_guid": "8b6d0663-d4c3-4420-99ed-1c99f1d1942c"
            },
            "source": [
                "5. What is the total weekly payroll for production and nonsupervisory employees across all industries in January 2017? Round to the nearest penny."
            ]
        },
        {
            "cell_type": "code",
            "execution_count": null,
            "metadata": {
                "azdata_cell_guid": "aba326a4-ea96-472e-9b4d-fff929aedc13",
                "language": "sql",
                "vscode": {
                    "languageId": "sql"
                }
            },
            "outputs": [],
            "source": [
                "SELECT \n",
                "    ROUND(SUM(jan.value), 2) AS total_wk_pay_grunts_jan2017\n",
                "FROM dbo.january_2017 AS jan\n",
                "JOIN dbo.series AS se\n",
                "    ON jan.series_id = se.series_id\n",
                "JOIN dbo.datatype AS dt\n",
                "    ON se.data_type_code = dt.data_type_code\n",
                "WHERE dt.data_type_code = (\n",
                "    SELECT dt.data_type_code\n",
                "    FROM dbo.datatype AS dt\n",
                "    WHERE data_type_text LIKE '%PRODUCTION AND NONSUPERVISORY%'\n",
                "      AND data_type_text LIKE 'AGGREGATE WEEKLY PAYROLLS%' \n",
                ");\n",
                "\n",
                "-- The total weekly payroll for production and nonsupervisory employees across all industries\n",
                "-- in January 2017, rounded to the nearest penny is $1,838,853,220.00."
            ]
        },
        {
            "cell_type": "markdown",
            "metadata": {
                "azdata_cell_guid": "cdc4508a-a76c-4e36-a816-3c26ef47e710"
            },
            "source": [
                "6. In January 2017, for which industry was the average weekly hours worked by production and nonsupervisory employees the highest? Which industry was the lowest?"
            ]
        },
        {
            "cell_type": "code",
            "execution_count": null,
            "metadata": {
                "azdata_cell_guid": "a6758e01-7ca6-43af-b8b8-04b8120c8a49",
                "language": "sql",
                "vscode": {
                    "languageId": "sql"
                }
            },
            "outputs": [],
            "source": [
                "WITH code_avg_wk_hours_grunts AS (\n",
                "    SELECT data_type_code\n",
                "    FROM datatype AS dt\n",
                "    WHERE data_type_text LIKE '%PRODUCTION AND NONSUPERVISORY%'\n",
                "        AND data_type_text LIKE 'AVERAGE WEEKLY HOURS%'\n",
                ")\n",
                "SELECT DISTINCT\n",
                "    ind.industry_name,\n",
                "    ind.naics_code,\n",
                "    jan.value AS minmax_grunts_avg_hours_jan2017\n",
                "FROM dbo.january_2017 AS jan\n",
                "JOIN dbo.series AS se\n",
                "    ON jan.series_id = se.series_id\n",
                "JOIN dbo.datatype AS dt\n",
                "    ON se.data_type_code = dt.data_type_code\n",
                "JOIN dbo.industry AS ind\n",
                "    ON se.industry_code = ind.industry_code\n",
                "WHERE dt.data_type_code IN (\n",
                "    SELECT data_type_code \n",
                "    FROM code_avg_wk_hours_grunts)\n",
                "  AND (jan.value = (SELECT MAX(value) \n",
                "                    FROM dbo.january_2017 AS jan_max\n",
                "                    JOIN dbo.series AS se_max ON jan_max.series_id = se_max.series_id\n",
                "                    JOIN dbo.datatype AS dt_max ON se_max.data_type_code = dt_max.data_type_code\n",
                "                    WHERE dt_max.data_type_code IN (\n",
                "                        SELECT data_type_code \n",
                "                        FROM code_avg_wk_hours_grunts))\n",
                "       OR jan.value = (SELECT MIN(value) \n",
                "                       FROM dbo.january_2017 AS jan_min\n",
                "                       JOIN dbo.series AS se_min ON jan_min.series_id = se_min.series_id\n",
                "                       JOIN dbo.datatype AS dt_min ON se_min.data_type_code = dt_min.data_type_code\n",
                "                       WHERE dt_min.data_type_code IN (\n",
                "                        SELECT data_type_code \n",
                "                        FROM code_avg_wk_hours_grunts)));\n",
                "\n",
                "-- The industry with the highest average weekly hours worked by production and nonsupervisory\n",
                "-- employees was 'Motor vehicle power train components' with 49.8 hours/weekly.\n",
                "--\n",
                "-- The industry with the lowest average weekly hours worked by production and nonsupervisory\n",
                "-- employees was 'Fitness and recreational sports centers'with 16.7 hours/weekly."
            ]
        },
        {
            "cell_type": "markdown",
            "metadata": {
                "azdata_cell_guid": "328915a2-60d5-4c87-b6c2-8e55fab39af3"
            },
            "source": [
                "7. In January 2021, for which industry was the total weekly payroll for production and nonsupervisory employees the highest? Which industry was the lowest?"
            ]
        },
        {
            "cell_type": "code",
            "execution_count": null,
            "metadata": {
                "azdata_cell_guid": "f3985220-b4b7-46f3-ba1a-e041a87be58b",
                "language": "sql",
                "vscode": {
                    "languageId": "sql"
                }
            },
            "outputs": [],
            "source": [
                "-- Completing under the assumption that we are using January 2017 data based upon Slack comments.\n",
                "\n",
                "WITH code_wk_payroll_grunts AS (\n",
                "    SELECT data_type_code\n",
                "    FROM datatype AS dt\n",
                "    WHERE data_type_text LIKE '%PRODUCTION AND NONSUPERVISORY%'\n",
                "      AND data_type_text LIKE 'AGGREGATE WEEKLY PAYROLLS%' \n",
                ")\n",
                "SELECT DISTINCT\n",
                "    ind.industry_name,\n",
                "    ind.naics_code,\n",
                "    jan.value AS minmax_grunts_payroll_jan2017\n",
                "FROM dbo.january_2017 AS jan\n",
                "JOIN dbo.series AS se\n",
                "    ON jan.series_id = se.series_id\n",
                "JOIN dbo.datatype AS dt\n",
                "    ON se.data_type_code = dt.data_type_code\n",
                "JOIN dbo.industry AS ind\n",
                "    ON se.industry_code = ind.industry_code\n",
                "WHERE dt.data_type_code IN (SELECT data_type_code FROM code_wk_payroll_grunts)\n",
                "  AND ind.industry_name <> 'Total private'\n",
                "  AND (jan.value = (SELECT MAX(value) \n",
                "                    FROM dbo.january_2017 AS jan_max\n",
                "                    JOIN dbo.series AS se_max ON jan_max.series_id = se_max.series_id\n",
                "                    JOIN dbo.datatype AS dt_max ON se_max.data_type_code = dt_max.data_type_code\n",
                "                    JOIN dbo.industry AS ind_max ON se_max.industry_code = ind_max.industry_code\n",
                "                    WHERE dt_max.data_type_code IN (SELECT data_type_code FROM code_wk_payroll_grunts)\n",
                "                      AND ind_max.industry_name <> 'Total private')\n",
                "       OR jan.value = (SELECT MIN(value) \n",
                "                       FROM dbo.january_2017 AS jan_min\n",
                "                       JOIN dbo.series AS se_min ON jan_min.series_id = se_min.series_id\n",
                "                       JOIN dbo.datatype AS dt_min ON se_min.data_type_code = dt_min.data_type_code\n",
                "                       JOIN dbo.industry AS ind_min ON se_min.industry_code = ind_min.industry_code\n",
                "                       WHERE dt_min.data_type_code IN (SELECT data_type_code FROM code_wk_payroll_grunts)\n",
                "                         AND ind_min.industry_name <> 'Total private'));\n",
                "\n",
                "-- The industry with the highest total weekly payroll for production and nonsupervisory\n",
                "-- employees was 'Private service-providing'with $60,914,722.00\n",
                "--\n",
                "-- The industry with the lowest total weekly payroll for production and nonsupervisory\n",
                "-- employees was 'Coin-operated industries and drycleaners' with $10,079.\n",
                "\n",
                "-- Note: 'Total private' was excluded from the results as it appears that it may be an aggregate value\n",
                "--        that overlaps or double-reports what may be in other industries. \n",
                "--\n",
                "--        That amount was: $74,498,171.00, calculated by removing \"AND ind.industry_name <> 'Total private'\"\n",
                "--        from the search query."
            ]
        },
        {
            "cell_type": "markdown",
            "metadata": {
                "azdata_cell_guid": "9c5c9cb4-4376-4645-bf52-c359bad1853e"
            },
            "source": [
                "## Join in on the Fun\n",
                "\n",
                "Time to start joining! You can choose the type of join you use, just make sure to make a  note!\n",
                "\n",
                "1. Join `annual_2016` with `series` on `series_id`. We only want the data in the `annual_2016` table to be included in the result."
            ]
        },
        {
            "cell_type": "code",
            "execution_count": null,
            "metadata": {
                "azdata_cell_guid": "6c1fad5a-9af5-4ebe-b7bf-eb611688cb14",
                "language": "sql",
                "vscode": {
                    "languageId": "sql"
                }
            },
            "outputs": [
                {
                    "data": {
                        "text/html": [
                            "Commands completed successfully."
                        ]
                    },
                    "metadata": {},
                    "output_type": "display_data"
                },
                {
                    "data": {
                        "text/html": [
                            "Total execution time: 00:00:00.019"
                        ]
                    },
                    "metadata": {},
                    "output_type": "display_data"
                }
            ],
            "source": [
                "-- Utilizing LEFT JOIN, as only data from annual_2016 was requested.\n",
                "\n",
                "SELECT TOP 50\n",
                "    an.*,\n",
                "    se.series_title,\n",
                "    se.industry_code,\n",
                "    se.data_type_code\n",
                "FROM dbo.annual_2016 AS an\n",
                "LEFT JOIN dbo.series AS se\n",
                "    ON an.series_id = se.series_id\n",
                "ORDER BY id;"
            ]
        },
        {
            "cell_type": "markdown",
            "metadata": {
                "azdata_cell_guid": "f0eefde2-fd6e-4cef-9426-3979c59ac61e"
            },
            "source": [
                "2. Join `series` and `datatype` on `data_type_code`."
            ]
        },
        {
            "cell_type": "code",
            "execution_count": null,
            "metadata": {
                "azdata_cell_guid": "0850cbeb-06f8-4b15-9f87-7a9ca7a87e91",
                "language": "sql",
                "vscode": {
                    "languageId": "sql"
                }
            },
            "outputs": [],
            "source": [
                "-- Limiting results to include only rows where data exists in both tables using INNER JOIN.\n",
                "\n",
                "SELECT TOP 50\n",
                "    se.series_id,\n",
                "    se.series_title,\n",
                "    se.data_type_code,\n",
                "    dt.data_type_text\n",
                "FROM dbo.series AS se\n",
                "INNER JOIN dbo.datatype AS dt\n",
                "    ON se.data_type_code = dt.data_type_code\n",
                "ORDER BY se.series_id;\n",
                "\n",
                "-- Sorting by series_id as 'id' does not exist in either table."
            ]
        },
        {
            "cell_type": "markdown",
            "metadata": {
                "azdata_cell_guid": "ada4ecfc-8180-4951-b013-1b4ad14bb2a9"
            },
            "source": [
                "3. Join `series` and `industry` on `industry_code`."
            ]
        },
        {
            "cell_type": "code",
            "execution_count": null,
            "metadata": {
                "azdata_cell_guid": "4eaf2035-ec13-4c15-960f-a40fe73dc34d",
                "language": "sql",
                "vscode": {
                    "languageId": "sql"
                }
            },
            "outputs": [],
            "source": [
                "-- Limiting results to include only rows where data exists in both tables using INNER JOIN.\n",
                "\n",
                "SELECT TOP 50\n",
                "    se.series_id,\n",
                "    se.series_title,\n",
                "    se.industry_code,\n",
                "    ind.industry_name,\n",
                "    ind.naics_code,\n",
                "    ind.display_level\n",
                "FROM dbo.series AS se\n",
                "INNER JOIN dbo.industry AS ind\n",
                "    ON se.industry_code = ind.industry_code\n",
                "ORDER BY ind.id"
            ]
        },
        {
            "cell_type": "markdown",
            "metadata": {
                "azdata_cell_guid": "7111eeba-9ab9-45b9-a4c5-09b809c63907"
            },
            "source": [
                "## Subqueries, Unions, Derived Tables, Oh My!\n",
                "\n",
                "1. Write a query that returns the `series_id`, `industry_code`, `industry_name`, and `value` from the `january_2017` table but only if that value is greater than the average value for `annual_2016` of `data_type_code` 82."
            ]
        },
        {
            "cell_type": "code",
            "execution_count": null,
            "metadata": {
                "azdata_cell_guid": "b747aa95-d3d7-4843-9f1a-13aae6902e3a",
                "language": "sql",
                "vscode": {
                    "languageId": "sql"
                }
            },
            "outputs": [],
            "source": [
                "-- Using CROSS JOIN since avg_annual_payroll includes only one row, \n",
                "-- which is the average annual payroll value where data_type_code = 82.\n",
                "\n",
                "WITH avg_annual_payroll AS (\n",
                "    SELECT \n",
                "        AVG(an.value) AS avg_value_2016\n",
                "    FROM dbo.annual_2016 AS an\n",
                "    JOIN dbo.series AS se_avg\n",
                "        ON an.series_id = se_avg.series_id\n",
                "    WHERE se_avg.data_type_code = 82\n",
                ")\n",
                "SELECT \n",
                "    jan.series_id,\n",
                "    se.industry_code,\n",
                "    ind.industry_name,\n",
                "    jan.value\n",
                "FROM dbo.january_2017 AS jan\n",
                "JOIN dbo.series AS se\n",
                "    ON jan.series_id = se.series_id\n",
                "JOIN dbo.industry AS ind\n",
                "    ON se.industry_code = ind.industry_code\n",
                "CROSS JOIN avg_annual_payroll \n",
                "WHERE se.data_type_code = 82\n",
                "  AND jan.value > avg_annual_payroll.avg_value_2016\n",
                "ORDER BY \"value\";"
            ]
        },
        {
            "attachments": {},
            "cell_type": "markdown",
            "metadata": {
                "azdata_cell_guid": "21baa05a-e30c-4993-a63e-1e221bb27aa6",
                "language": "sql"
            },
            "source": [
                "**Optional Bonus Question:** Write the above query as a common table expression!"
            ]
        },
        {
            "cell_type": "code",
            "execution_count": null,
            "metadata": {
                "azdata_cell_guid": "a816a7e7-2175-446c-b4e4-4a3d6667d281",
                "language": "sql",
                "vscode": {
                    "languageId": "sql"
                }
            },
            "outputs": [],
            "source": [
                "-- See above."
            ]
        },
        {
            "cell_type": "markdown",
            "metadata": {
                "azdata_cell_guid": "661cb463-cf71-40cb-9d03-9bb37492e2d5"
            },
            "source": [
                "2. Create a `Union` table comparing average weekly earnings of production and nonsupervisory employees between `annual_2016` and `january_2017` using the data type 30.  Round to the nearest penny.  You should have a column for the average earnings and a column for the year, and the period."
            ]
        },
        {
            "cell_type": "code",
            "execution_count": null,
            "metadata": {
                "azdata_cell_guid": "327f3949-b20f-4c1e-a126-6005719bf8df",
                "language": "sql",
                "vscode": {
                    "languageId": "sql"
                }
            },
            "outputs": [],
            "source": [
                "SELECT \n",
                "    ROUND(AVG(an.value), 2) AS avg_wk_earnings,\n",
                "    an.year,\n",
                "    an.period\n",
                "FROM dbo.annual_2016 AS an\n",
                "JOIN dbo.series AS se\n",
                "    ON an.series_id = se.series_id\n",
                "WHERE se.data_type_code = 30 \n",
                "GROUP BY an.year, an.period\n",
                "\n",
                "UNION\n",
                "\n",
                "SELECT \n",
                "    ROUND(AVG(jan.value), 2) AS avg_wk_earnings,\n",
                "    jan.year,\n",
                "    jan.period\n",
                "FROM dbo.january_2017 AS jan\n",
                "JOIN dbo.series AS se\n",
                "    ON jan.series_id = se.series_id\n",
                "WHERE se.data_type_code = 30\n",
                "GROUP BY jan.year, jan.period;"
            ]
        },
        {
            "cell_type": "markdown",
            "metadata": {
                "azdata_cell_guid": "cbda1089-6fdf-4b89-9651-54862cf7eb08"
            },
            "source": [
                "## Summarize Your Results\n",
                "\n",
                "With what you know now about the  Bureau of Labor Statistics (BLS) Current Employment Survey (CES) results and working with the Labor Statistics Database, answer the following questions. Note that while this is subjective, you should include relevant data to back up your opinion.\n",
                "\n",
                "1. During which time period did production and nonsupervisory employees fare better?"
            ]
        },
        {
            "cell_type": "markdown",
            "metadata": {
                "azdata_cell_guid": "ed5db53d-2fec-41a3-a9d3-367a676e6c02"
            },
            "source": [
                "Production and nonsupervisory employees fared better in period M01 of 2017 with average weekly earnings equal to $808.53 versus $797.20 of period M13 in 2016."
            ]
        },
        {
            "cell_type": "markdown",
            "metadata": {
                "azdata_cell_guid": "e0028946-9a7f-48ba-a14d-6685d55e9423"
            },
            "source": [
                "2. In which industries did production and nonsupervisory employees fare better?"
            ]
        },
        {
            "cell_type": "markdown",
            "metadata": {
                "azdata_cell_guid": "d1fc3b34-cee3-4565-8233-fbb225573974"
            },
            "source": [
                "Private sector employees appeared to fare the best. Excluding anything mentioning 'private', 'Professional and business services' employees still saw eight figure values."
            ]
        },
        {
            "cell_type": "code",
            "execution_count": null,
            "metadata": {
                "vscode": {
                    "languageId": "sql"
                }
            },
            "outputs": [],
            "source": [
                "WITH code_wk_payroll_grunts AS (\n",
                "    SELECT data_type_code\n",
                "    FROM datatype AS dt\n",
                "    WHERE data_type_text LIKE '%PRODUCTION AND NONSUPERVISORY%'\n",
                "      AND data_type_text LIKE 'AGGREGATE WEEKLY PAYROLLS%' \n",
                ")\n",
                "SELECT DISTINCT\n",
                "    ind.industry_name,\n",
                "    ind.naics_code,\n",
                "    jan.value AS minmax_grunts_payroll_jan2017\n",
                "FROM dbo.january_2017 AS jan\n",
                "JOIN dbo.series AS se\n",
                "    ON jan.series_id = se.series_id\n",
                "JOIN dbo.datatype AS dt\n",
                "    ON se.data_type_code = dt.data_type_code\n",
                "JOIN dbo.industry AS ind\n",
                "    ON se.industry_code = ind.industry_code\n",
                "WHERE dt.data_type_code IN (SELECT data_type_code FROM code_wk_payroll_grunts)\n",
                "  AND ind.industry_name NOT LIKE '%PRIVATE%'\n",
                "  AND (jan.value = (SELECT MAX(value) \n",
                "                    FROM dbo.january_2017 AS jan_max\n",
                "                    JOIN dbo.series AS se_max ON jan_max.series_id = se_max.series_id\n",
                "                    JOIN dbo.datatype AS dt_max ON se_max.data_type_code = dt_max.data_type_code\n",
                "                    JOIN dbo.industry AS ind_max ON se_max.industry_code = ind_max.industry_code\n",
                "                    WHERE dt_max.data_type_code IN (SELECT data_type_code FROM code_wk_payroll_grunts)\n",
                "                      AND ind_max.industry_name NOT LIKE '%PRIVATE%')\n",
                "       OR jan.value = (SELECT MIN(value) \n",
                "                       FROM dbo.january_2017 AS jan_min\n",
                "                       JOIN dbo.series AS se_min ON jan_min.series_id = se_min.series_id\n",
                "                       JOIN dbo.datatype AS dt_min ON se_min.data_type_code = dt_min.data_type_code\n",
                "                       JOIN dbo.industry AS ind_min ON se_min.industry_code = ind_min.industry_code\n",
                "                       WHERE dt_min.data_type_code IN (SELECT data_type_code FROM code_wk_payroll_grunts)\n",
                "                         AND ind_min.industry_name NOT LIKE '%PRIVATE%'));"
            ]
        },
        {
            "cell_type": "markdown",
            "metadata": {
                "azdata_cell_guid": "0db4c4b1-151b-43f8-9a7a-14d45e15a678"
            },
            "source": [
                "3. Now that you have explored the datasets, is there any data or information that you wish you had in this analysis?"
            ]
        },
        {
            "cell_type": "markdown",
            "metadata": {},
            "source": [
                "I would want to know the number of employees per industry. I think that could add another layer to the analysis."
            ]
        }
    ],
    "metadata": {
        "kernelspec": {
            "display_name": "Python 3",
            "language": "python",
            "name": "python3"
        },
        "language_info": {
            "name": "python",
            "version": "3.13.7"
        }
    },
    "nbformat": 4,
    "nbformat_minor": 2
}
